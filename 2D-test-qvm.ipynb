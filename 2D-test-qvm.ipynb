{
 
 "cells": [
  {
   "cell_type": "code",
   "execution_count": 2,
   "metadata": {},
   "outputs": [],
   "source": [
    "#import all necessary PyQuil libraries and global constants\n",
    "from pyquil.api import get_qc\n",
    "from pyquil.quil import Program\n",
    "from pyquil.api import QVM\n",
    "from pyquil.api._devices import list_lattices\n",
    "from pyquil.paulis import PauliTerm, exponential_map\n",
    "from pyquil.gates import RZ, Z, H, MEASURE, CNOT, RESET\n",
    "import numpy as np\n",
    "import matplotlib.pyplot as plt\n",
    "%matplotlib inline \n",
    "\n",
    "# Physical constants, global variable\n",
    "H_BAR = 0.658212    # eV*fs\n",
    "Jxy = 0.01183898    # eV, coupling coeff; Jz<0 is antiferromagenetic, Jz>0 is ferromagnetic\n",
    "FREQ = 0.0048       # 1/fs, frequency of MoSe2 phonon"
   ]
  },
  {
   "cell_type": "code",
   "execution_count": 3,
   "metadata": {},
   "outputs": [],
   "source": [
    "def evolution_circuit(qubits, delta_t, total_time, w_ph):\n",
    "    \"\"\"\n",
    "    Define circuit for evolution of wavefunction, i.e.,\n",
    "    H(t) = - Jxy * (sigma_{x}^{0} * sigma_{x}^{1} + sigma_{y}^{0} * sigma_{y}^{1} + sigma_{x}^{2} * sigma_{x}^{3} + sigma_{y}^{2} * sigma_{y}^{3} + sigma_{x}^{0} * sigma_{x}^{2} + sigma_{y}^{0} * sigma_{y}^{2} + sigma_{x}^{1} * sigma_{x}^{3} + sigma_{y}^{1} * sigma_{y}^{3})\n",
    "           - e_ph * cos(w_ph * t) * (sigma_{z}^{0} + sigma_{z}^{1} + 2 * sigma_{z}^{2} + 2 * sigma_{z}^{3})\n",
    "\n",
    "    Args:\n",
    "    - qubits: list of qubits in system\n",
    "    - delta_t: unit of propagation time \n",
    "    - total_time: total time to evolve system\n",
    "    - w_ph: angular frequency of phonon\n",
    "    \n",
    "    Return: \n",
    "    - pyquil.Progra\n",
    "    \"\"\"\n",
    "\n",
    "    # get the number of qubits\n",
    "    nqubits = len(qubits)\n",
    "    e_ph = 0.5*Jz\n",
    "    #instantiate program object for return\n",
    "    p = Program(RESET())\n",
    "\n",
    "    # decalre time e_ph as a parameter\n",
    "    # declare memory for read out\n",
    "    ro = p.declare('ro', memory_type='BIT', memory_size=nqubits)\n",
    "\n",
    "    # determine number of time steps to get to total time\n",
    "    prop_steps = int(total_time / delta_t)\n",
    "    \n",
    "    # instantiate program object for the propagator to which\n",
    "    # we add terms of Hamiltonian piece by piece\n",
    "    for step in range(0,prop_steps):\n",
    "        t = (step + 0.5) * delta_t\n",
    "        propagator_t = Program()\n",
    "        instr_set1 = []\n",
    "        instr_set2 = []\n",
    "        theta_z = -e_ph * np.cos(w_ph * t)\n",
    "\n",
    "        #make coupling terms\n",
    "        coupling_terms = []\n",
    "        coupling_terms = PauliTerm(\"X\", qubits[0], Jxy)*PauliTerm(\"X\", qubits[1]) + PauliTerm(\"Y\", qubits[0], Jxy)*PauliTerm(\"Y\", qubits[1]) \\\n",
    "                        + PauliTerm(\"X\", qubits[2], Jxy)*PauliTerm(\"X\", qubits[3]) + PauliTerm(\"Y\", qubits[2], Jxy)*PauliTerm(\"Y\", qubits[3]) \\\n",
    "                        + PauliTerm(\"X\", qubits[0], Jxy)*PauliTerm(\"X\", qubits[2]) + PauliTerm(\"Y\", qubits[0], Jxy)*PauliTerm(\"Y\", qubits[2]) \\\n",
    "                        + PauliTerm(\"X\", qubits[1], Jxy)*PauliTerm(\"X\", qubits[3]) + PauliTerm(\"Y\", qubits[1], Jxy)*PauliTerm(\"Y\", qubits[3])\n",
    "        #make transverse magnetization terms of Hamiltonian\n",
    "        Hz = []\n",
    "        Hz = PauliTerm(\"Z\", qubits[0], theta_z) + PauliTerm(\"Z\", qubits[1], theta_z) + 2 * PauliTerm(\"Z\", qubits[2], theta_z) + 2 * PauliTerm(\"Z\", qubits[3], theta_z)\n",
    "        for j in range(0, len(Hz)):\n",
    "            instr_set1.append(exponential_map(Hz[j])(delta_t/H_BAR))\n",
    "        for j in range(0, len(coupling_termsZ)):\n",
    "            instr_set2.append(exponential_map(coupling_terms[j])(delta_t/H_BAR))\n",
    "\n",
    "        # create propagator \n",
    "        propagator_t.inst(instr_set1, instr_set2)\n",
    "        p.inst(propagator_t)\n",
    "\n",
    "    # add measurement operators to each qubit\n",
    "    for i in range(0,nqubits):\n",
    "        p.inst(MEASURE(qubits[i], ro[i]))\n",
    "    \n",
    "    # return program \n",
    "    return p"
   ]
  },
  {
   "cell_type": "code",
   "execution_count": 4,
   "metadata": {},
   "outputs": [
    {
     "name": "stdout",
     "output_type": "stream",
     "text": [
      "hello\n"
     ]
    },
    {
     "ename": "NameError",
     "evalue": "name 'Jz' is not defined",
     "output_type": "error",
     "traceback": [
      "\u001b[0;31m---------------------------------------------------------------------------\u001b[0m",
      "\u001b[0;31mNameError\u001b[0m                                 Traceback (most recent call last)",
      "\u001b[0;32m<ipython-input-4-57054f8a4a9e>\u001b[0m in \u001b[0;36m<module>\u001b[0;34m\u001b[0m\n\u001b[1;32m     23\u001b[0m             \u001b[0mevolution_time\u001b[0m \u001b[0;34m=\u001b[0m \u001b[0mdelta_t\u001b[0m \u001b[0;34m*\u001b[0m \u001b[0mi\u001b[0m\u001b[0;34m\u001b[0m\u001b[0;34m\u001b[0m\u001b[0m\n\u001b[1;32m     24\u001b[0m             \u001b[0;31m#create program\u001b[0m\u001b[0;34m\u001b[0m\u001b[0;34m\u001b[0m\u001b[0;34m\u001b[0m\u001b[0m\n\u001b[0;32m---> 25\u001b[0;31m             \u001b[0mprogram\u001b[0m \u001b[0;34m=\u001b[0m \u001b[0mevolution_circuit\u001b[0m\u001b[0;34m(\u001b[0m\u001b[0mqubits\u001b[0m\u001b[0;34m,\u001b[0m \u001b[0mdelta_t\u001b[0m\u001b[0;34m,\u001b[0m \u001b[0mevolution_time\u001b[0m\u001b[0;34m,\u001b[0m \u001b[0mw_ph\u001b[0m\u001b[0;34m)\u001b[0m\u001b[0;34m\u001b[0m\u001b[0;34m\u001b[0m\u001b[0m\n\u001b[0m\u001b[1;32m     26\u001b[0m             \u001b[0;31m# wrap program in loop for ntrials, compile program, and run\u001b[0m\u001b[0;34m\u001b[0m\u001b[0;34m\u001b[0m\u001b[0;34m\u001b[0m\u001b[0m\n\u001b[1;32m     27\u001b[0m             \u001b[0mprogram\u001b[0m\u001b[0;34m.\u001b[0m\u001b[0mwrap_in_numshots_loop\u001b[0m\u001b[0;34m(\u001b[0m\u001b[0mtrials\u001b[0m\u001b[0;34m)\u001b[0m\u001b[0;34m\u001b[0m\u001b[0;34m\u001b[0m\u001b[0m\n",
      "\u001b[0;32m<ipython-input-3-248e778f65c5>\u001b[0m in \u001b[0;36mevolution_circuit\u001b[0;34m(qubits, delta_t, total_time, w_ph)\u001b[0m\n\u001b[1;32m     17\u001b[0m     \u001b[0;31m# get the number of qubits\u001b[0m\u001b[0;34m\u001b[0m\u001b[0;34m\u001b[0m\u001b[0;34m\u001b[0m\u001b[0m\n\u001b[1;32m     18\u001b[0m     \u001b[0mnqubits\u001b[0m \u001b[0;34m=\u001b[0m \u001b[0mlen\u001b[0m\u001b[0;34m(\u001b[0m\u001b[0mqubits\u001b[0m\u001b[0;34m)\u001b[0m\u001b[0;34m\u001b[0m\u001b[0;34m\u001b[0m\u001b[0m\n\u001b[0;32m---> 19\u001b[0;31m     \u001b[0me_ph\u001b[0m \u001b[0;34m=\u001b[0m \u001b[0;36m0.5\u001b[0m\u001b[0;34m*\u001b[0m\u001b[0mJz\u001b[0m\u001b[0;34m\u001b[0m\u001b[0;34m\u001b[0m\u001b[0m\n\u001b[0m\u001b[1;32m     20\u001b[0m     \u001b[0;31m#instantiate program object for return\u001b[0m\u001b[0;34m\u001b[0m\u001b[0;34m\u001b[0m\u001b[0;34m\u001b[0m\u001b[0m\n\u001b[1;32m     21\u001b[0m     \u001b[0mp\u001b[0m \u001b[0;34m=\u001b[0m \u001b[0mProgram\u001b[0m\u001b[0;34m(\u001b[0m\u001b[0mRESET\u001b[0m\u001b[0;34m(\u001b[0m\u001b[0;34m)\u001b[0m\u001b[0;34m)\u001b[0m\u001b[0;34m\u001b[0m\u001b[0;34m\u001b[0m\u001b[0m\n",
      "\u001b[0;31mNameError\u001b[0m: name 'Jz' is not defined"
     ]
    }
   ],
   "source": [
    "if __name__==\"__main__\":\n",
    "    \n",
    "    #qc = get_qc(\"9q-generic-qvm\", as_qvm=True)\n",
    "    #qc = get_qc(device_name==sys.argv[1].strip())\n",
    "    print('hello')\n",
    "    qvm = get_qc('9q-square-qvm')\n",
    "    qubits = qvm.qubits()\n",
    "    num_qubits = len(qubits) \n",
    "    trials = 100\n",
    "    # should have total_t divisible by delta_t\n",
    "    delta_t = 3     # fs\n",
    "    total_t = 150  # fs\n",
    "    num_steps = int(total_t / delta_t) + 1\n",
    "\n",
    "    # define the terms of the Hamiltonian\n",
    "    w_ph = 2.0 * np.pi * FREQ   # 1/fs\n",
    "\n",
    "    # loop over time steps\n",
    "    with open(\"results.npy\", \"wb\") as f:\n",
    "        np.save(f, (trials, num_qubits, num_steps, 1))\n",
    "        for i in range(0, num_steps):\n",
    "            # compute total time to evolve wavefunction under for this step of loop\n",
    "            evolution_time = delta_t * i\n",
    "            #create program \n",
    "            program = evolution_circuit(qubits, delta_t, evolution_time, w_ph)\n",
    "            # wrap program in loop for ntrials, compile program, and run\n",
    "            program.wrap_in_numshots_loop(trials)\n",
    "            #convert quil to native quil (native set of gates)\n",
    "            nqp = qc.compiler.quil_to_native_quil(program)\n",
    "            #compile to executable\n",
    "            executable = qc.compiler.native_quil_to_executable(nqp)\n",
    "            #run the code on the pre-defined backend\n",
    "            bitstrings = qc.run(executable)\n",
    "            ##Save bitstrings to file\n",
    "            np.save(f, bitstrings)"
   ]
  },
  {
   "cell_type": "code",
   "execution_count": 5,
   "metadata": {},
   "outputs": [
    {
     "ename": "ValueError",
     "evalue": "Cannot load file containing pickled data when allow_pickle=False",
     "output_type": "error",
     "traceback": [
      "\u001b[0;31m---------------------------------------------------------------------------\u001b[0m",
      "\u001b[0;31mValueError\u001b[0m                                Traceback (most recent call last)",
      "\u001b[0;32m<ipython-input-5-de82241ad523>\u001b[0m in \u001b[0;36m<module>\u001b[0;34m\u001b[0m\n\u001b[1;32m     28\u001b[0m       \u001b[0mresults\u001b[0m \u001b[0;34m=\u001b[0m \u001b[0;34m[\u001b[0m\u001b[0;34m]\u001b[0m\u001b[0;34m\u001b[0m\u001b[0;34m\u001b[0m\u001b[0m\n\u001b[1;32m     29\u001b[0m       \u001b[0;32mfor\u001b[0m \u001b[0mj\u001b[0m \u001b[0;32min\u001b[0m \u001b[0mrange\u001b[0m\u001b[0;34m(\u001b[0m\u001b[0mlen_ephs\u001b[0m\u001b[0;34m)\u001b[0m\u001b[0;34m:\u001b[0m\u001b[0;34m\u001b[0m\u001b[0;34m\u001b[0m\u001b[0m\n\u001b[0;32m---> 30\u001b[0;31m         \u001b[0mbitstrings\u001b[0m \u001b[0;34m=\u001b[0m \u001b[0mnp\u001b[0m\u001b[0;34m.\u001b[0m\u001b[0mload\u001b[0m\u001b[0;34m(\u001b[0m\u001b[0mf\u001b[0m\u001b[0;34m)\u001b[0m\u001b[0;34m\u001b[0m\u001b[0;34m\u001b[0m\u001b[0m\n\u001b[0m\u001b[1;32m     31\u001b[0m         \u001b[0;32mfor\u001b[0m \u001b[0mt\u001b[0m \u001b[0;32min\u001b[0m \u001b[0mrange\u001b[0m\u001b[0;34m(\u001b[0m\u001b[0;36m0\u001b[0m\u001b[0;34m,\u001b[0m \u001b[0mtrails\u001b[0m\u001b[0;34m)\u001b[0m\u001b[0;34m:\u001b[0m\u001b[0;34m\u001b[0m\u001b[0;34m\u001b[0m\u001b[0m\n\u001b[1;32m     32\u001b[0m           \u001b[0;32mfor\u001b[0m \u001b[0mq\u001b[0m \u001b[0;32min\u001b[0m \u001b[0mrange\u001b[0m\u001b[0;34m(\u001b[0m\u001b[0;36m0\u001b[0m\u001b[0;34m,\u001b[0m \u001b[0mnqubits\u001b[0m\u001b[0;34m)\u001b[0m\u001b[0;34m:\u001b[0m\u001b[0;34m\u001b[0m\u001b[0;34m\u001b[0m\u001b[0m\n",
      "\u001b[0;32m/opt/conda/lib/python3.8/site-packages/numpy/lib/npyio.py\u001b[0m in \u001b[0;36mload\u001b[0;34m(file, mmap_mode, allow_pickle, fix_imports, encoding)\u001b[0m\n\u001b[1;32m    442\u001b[0m             \u001b[0;31m# Try a pickle\u001b[0m\u001b[0;34m\u001b[0m\u001b[0;34m\u001b[0m\u001b[0;34m\u001b[0m\u001b[0m\n\u001b[1;32m    443\u001b[0m             \u001b[0;32mif\u001b[0m \u001b[0;32mnot\u001b[0m \u001b[0mallow_pickle\u001b[0m\u001b[0;34m:\u001b[0m\u001b[0;34m\u001b[0m\u001b[0;34m\u001b[0m\u001b[0m\n\u001b[0;32m--> 444\u001b[0;31m                 raise ValueError(\"Cannot load file containing pickled data \"\n\u001b[0m\u001b[1;32m    445\u001b[0m                                  \"when allow_pickle=False\")\n\u001b[1;32m    446\u001b[0m             \u001b[0;32mtry\u001b[0m\u001b[0;34m:\u001b[0m\u001b[0;34m\u001b[0m\u001b[0;34m\u001b[0m\u001b[0m\n",
      "\u001b[0;31mValueError\u001b[0m: Cannot load file containing pickled data when allow_pickle=False"
     ]
    }
   ],
   "source": [
    "import numpy as np\n",
    "import os\n",
    "import csv\n",
    "\n",
    "def average_magnetization(result: dict, shots: int):\n",
    "  \"\"\"Compute average magnetization from results of qk.execution.\n",
    "  Args:\n",
    "  - result (dict): a dictionary with the counts for each qubit, see qk.result.result module\n",
    "  - shots (int): number of trials\n",
    "  Return:\n",
    "  - average_mag (float)\n",
    "  \"\"\"\n",
    "  mag = 0\n",
    "  for spin_str, count in result.items():\n",
    "    spin_int = [1 - 2 * float(s) for s in spin_str]\n",
    "    mag += (sum(spin_int) / len(spin_int)) * count\n",
    "  average_mag = mag / shots\n",
    "  return average_mag\n",
    "\n",
    "\n",
    "if __name__==\"__main__\":\n",
    "  infile = 'results.npy'\n",
    "  outfile = 'averages.txt'\n",
    "  avg_mag = []\n",
    "  with open('results.npy', 'rb') as f:\n",
    "    trails, nqubits, num_steps, len_ephs = np.load(f,allow_pickle=True)\n",
    "    for i in range(1, num_steps):\n",
    "      results = []\n",
    "      for j in range(len_ephs):\n",
    "        bitstrings = np.load(f)\n",
    "        for t in range(0, trails):\n",
    "          for q in range(0, nqubits):\n",
    "            if bitstrings[t][q] == 0:\n",
    "              bitstrings[t][q] = 1.0\n",
    "            else:\n",
    "              bitstrings[t][q] = -1.0\n",
    "        results.append(np.mean([bitstrings[:,0]]))\n",
    "      for e in range(0, len_ephs):\n",
    "        avg_mag.append(results[e])\n",
    "        print(e,avg_mag[e])\n",
    "  f.close()\n",
    "  with open(\"averages.txt\", \"w\") as f:\n",
    "      np.save(f, (range(num_steps-1), avg_mag))\n",
    "  f.close()"
   ]
  },
  {
   "cell_type": "code",
   "execution_count": 6,
   "metadata": {},
   "outputs": [
    {
     "ename": "ValueError",
     "evalue": "x and y must have same first dimension, but have shapes (50,) and (0,)",
     "output_type": "error",
     "traceback": [
      "\u001b[0;31m---------------------------------------------------------------------------\u001b[0m",
      "\u001b[0;31mValueError\u001b[0m                                Traceback (most recent call last)",
      "\u001b[0;32m<ipython-input-6-5f84657e685d>\u001b[0m in \u001b[0;36m<module>\u001b[0;34m\u001b[0m\n\u001b[0;32m----> 1\u001b[0;31m \u001b[0mplt\u001b[0m\u001b[0;34m.\u001b[0m\u001b[0mplot\u001b[0m\u001b[0;34m(\u001b[0m\u001b[0mrange\u001b[0m\u001b[0;34m(\u001b[0m\u001b[0mnum_steps\u001b[0m\u001b[0;34m-\u001b[0m\u001b[0;36m1\u001b[0m\u001b[0;34m)\u001b[0m\u001b[0;34m,\u001b[0m \u001b[0mavg_mag\u001b[0m\u001b[0;34m)\u001b[0m\u001b[0;34m\u001b[0m\u001b[0;34m\u001b[0m\u001b[0m\n\u001b[0m\u001b[1;32m      2\u001b[0m \u001b[0mplt\u001b[0m\u001b[0;34m.\u001b[0m\u001b[0mshow\u001b[0m\u001b[0;34m(\u001b[0m\u001b[0;34m)\u001b[0m\u001b[0;34m\u001b[0m\u001b[0;34m\u001b[0m\u001b[0m\n",
      "\u001b[0;32m/opt/conda/lib/python3.8/site-packages/matplotlib/pyplot.py\u001b[0m in \u001b[0;36mplot\u001b[0;34m(scalex, scaley, data, *args, **kwargs)\u001b[0m\n\u001b[1;32m   2838\u001b[0m \u001b[0;34m@\u001b[0m\u001b[0m_copy_docstring_and_deprecators\u001b[0m\u001b[0;34m(\u001b[0m\u001b[0mAxes\u001b[0m\u001b[0;34m.\u001b[0m\u001b[0mplot\u001b[0m\u001b[0;34m)\u001b[0m\u001b[0;34m\u001b[0m\u001b[0;34m\u001b[0m\u001b[0m\n\u001b[1;32m   2839\u001b[0m \u001b[0;32mdef\u001b[0m \u001b[0mplot\u001b[0m\u001b[0;34m(\u001b[0m\u001b[0;34m*\u001b[0m\u001b[0margs\u001b[0m\u001b[0;34m,\u001b[0m \u001b[0mscalex\u001b[0m\u001b[0;34m=\u001b[0m\u001b[0;32mTrue\u001b[0m\u001b[0;34m,\u001b[0m \u001b[0mscaley\u001b[0m\u001b[0;34m=\u001b[0m\u001b[0;32mTrue\u001b[0m\u001b[0;34m,\u001b[0m \u001b[0mdata\u001b[0m\u001b[0;34m=\u001b[0m\u001b[0;32mNone\u001b[0m\u001b[0;34m,\u001b[0m \u001b[0;34m**\u001b[0m\u001b[0mkwargs\u001b[0m\u001b[0;34m)\u001b[0m\u001b[0;34m:\u001b[0m\u001b[0;34m\u001b[0m\u001b[0;34m\u001b[0m\u001b[0m\n\u001b[0;32m-> 2840\u001b[0;31m     return gca().plot(\n\u001b[0m\u001b[1;32m   2841\u001b[0m         \u001b[0;34m*\u001b[0m\u001b[0margs\u001b[0m\u001b[0;34m,\u001b[0m \u001b[0mscalex\u001b[0m\u001b[0;34m=\u001b[0m\u001b[0mscalex\u001b[0m\u001b[0;34m,\u001b[0m \u001b[0mscaley\u001b[0m\u001b[0;34m=\u001b[0m\u001b[0mscaley\u001b[0m\u001b[0;34m,\u001b[0m\u001b[0;34m\u001b[0m\u001b[0;34m\u001b[0m\u001b[0m\n\u001b[1;32m   2842\u001b[0m         **({\"data\": data} if data is not None else {}), **kwargs)\n",
      "\u001b[0;32m/opt/conda/lib/python3.8/site-packages/matplotlib/axes/_axes.py\u001b[0m in \u001b[0;36mplot\u001b[0;34m(self, scalex, scaley, data, *args, **kwargs)\u001b[0m\n\u001b[1;32m   1741\u001b[0m         \"\"\"\n\u001b[1;32m   1742\u001b[0m         \u001b[0mkwargs\u001b[0m \u001b[0;34m=\u001b[0m \u001b[0mcbook\u001b[0m\u001b[0;34m.\u001b[0m\u001b[0mnormalize_kwargs\u001b[0m\u001b[0;34m(\u001b[0m\u001b[0mkwargs\u001b[0m\u001b[0;34m,\u001b[0m \u001b[0mmlines\u001b[0m\u001b[0;34m.\u001b[0m\u001b[0mLine2D\u001b[0m\u001b[0;34m)\u001b[0m\u001b[0;34m\u001b[0m\u001b[0;34m\u001b[0m\u001b[0m\n\u001b[0;32m-> 1743\u001b[0;31m         \u001b[0mlines\u001b[0m \u001b[0;34m=\u001b[0m \u001b[0;34m[\u001b[0m\u001b[0;34m*\u001b[0m\u001b[0mself\u001b[0m\u001b[0;34m.\u001b[0m\u001b[0m_get_lines\u001b[0m\u001b[0;34m(\u001b[0m\u001b[0;34m*\u001b[0m\u001b[0margs\u001b[0m\u001b[0;34m,\u001b[0m \u001b[0mdata\u001b[0m\u001b[0;34m=\u001b[0m\u001b[0mdata\u001b[0m\u001b[0;34m,\u001b[0m \u001b[0;34m**\u001b[0m\u001b[0mkwargs\u001b[0m\u001b[0;34m)\u001b[0m\u001b[0;34m]\u001b[0m\u001b[0;34m\u001b[0m\u001b[0;34m\u001b[0m\u001b[0m\n\u001b[0m\u001b[1;32m   1744\u001b[0m         \u001b[0;32mfor\u001b[0m \u001b[0mline\u001b[0m \u001b[0;32min\u001b[0m \u001b[0mlines\u001b[0m\u001b[0;34m:\u001b[0m\u001b[0;34m\u001b[0m\u001b[0;34m\u001b[0m\u001b[0m\n\u001b[1;32m   1745\u001b[0m             \u001b[0mself\u001b[0m\u001b[0;34m.\u001b[0m\u001b[0madd_line\u001b[0m\u001b[0;34m(\u001b[0m\u001b[0mline\u001b[0m\u001b[0;34m)\u001b[0m\u001b[0;34m\u001b[0m\u001b[0;34m\u001b[0m\u001b[0m\n",
      "\u001b[0;32m/opt/conda/lib/python3.8/site-packages/matplotlib/axes/_base.py\u001b[0m in \u001b[0;36m__call__\u001b[0;34m(self, data, *args, **kwargs)\u001b[0m\n\u001b[1;32m    271\u001b[0m                 \u001b[0mthis\u001b[0m \u001b[0;34m+=\u001b[0m \u001b[0margs\u001b[0m\u001b[0;34m[\u001b[0m\u001b[0;36m0\u001b[0m\u001b[0;34m]\u001b[0m\u001b[0;34m,\u001b[0m\u001b[0;34m\u001b[0m\u001b[0;34m\u001b[0m\u001b[0m\n\u001b[1;32m    272\u001b[0m                 \u001b[0margs\u001b[0m \u001b[0;34m=\u001b[0m \u001b[0margs\u001b[0m\u001b[0;34m[\u001b[0m\u001b[0;36m1\u001b[0m\u001b[0;34m:\u001b[0m\u001b[0;34m]\u001b[0m\u001b[0;34m\u001b[0m\u001b[0;34m\u001b[0m\u001b[0m\n\u001b[0;32m--> 273\u001b[0;31m             \u001b[0;32myield\u001b[0m \u001b[0;32mfrom\u001b[0m \u001b[0mself\u001b[0m\u001b[0;34m.\u001b[0m\u001b[0m_plot_args\u001b[0m\u001b[0;34m(\u001b[0m\u001b[0mthis\u001b[0m\u001b[0;34m,\u001b[0m \u001b[0mkwargs\u001b[0m\u001b[0;34m)\u001b[0m\u001b[0;34m\u001b[0m\u001b[0;34m\u001b[0m\u001b[0m\n\u001b[0m\u001b[1;32m    274\u001b[0m \u001b[0;34m\u001b[0m\u001b[0m\n\u001b[1;32m    275\u001b[0m     \u001b[0;32mdef\u001b[0m \u001b[0mget_next_color\u001b[0m\u001b[0;34m(\u001b[0m\u001b[0mself\u001b[0m\u001b[0;34m)\u001b[0m\u001b[0;34m:\u001b[0m\u001b[0;34m\u001b[0m\u001b[0;34m\u001b[0m\u001b[0m\n",
      "\u001b[0;32m/opt/conda/lib/python3.8/site-packages/matplotlib/axes/_base.py\u001b[0m in \u001b[0;36m_plot_args\u001b[0;34m(self, tup, kwargs)\u001b[0m\n\u001b[1;32m    397\u001b[0m \u001b[0;34m\u001b[0m\u001b[0m\n\u001b[1;32m    398\u001b[0m         \u001b[0;32mif\u001b[0m \u001b[0mx\u001b[0m\u001b[0;34m.\u001b[0m\u001b[0mshape\u001b[0m\u001b[0;34m[\u001b[0m\u001b[0;36m0\u001b[0m\u001b[0;34m]\u001b[0m \u001b[0;34m!=\u001b[0m \u001b[0my\u001b[0m\u001b[0;34m.\u001b[0m\u001b[0mshape\u001b[0m\u001b[0;34m[\u001b[0m\u001b[0;36m0\u001b[0m\u001b[0;34m]\u001b[0m\u001b[0;34m:\u001b[0m\u001b[0;34m\u001b[0m\u001b[0;34m\u001b[0m\u001b[0m\n\u001b[0;32m--> 399\u001b[0;31m             raise ValueError(f\"x and y must have same first dimension, but \"\n\u001b[0m\u001b[1;32m    400\u001b[0m                              f\"have shapes {x.shape} and {y.shape}\")\n\u001b[1;32m    401\u001b[0m         \u001b[0;32mif\u001b[0m \u001b[0mx\u001b[0m\u001b[0;34m.\u001b[0m\u001b[0mndim\u001b[0m \u001b[0;34m>\u001b[0m \u001b[0;36m2\u001b[0m \u001b[0;32mor\u001b[0m \u001b[0my\u001b[0m\u001b[0;34m.\u001b[0m\u001b[0mndim\u001b[0m \u001b[0;34m>\u001b[0m \u001b[0;36m2\u001b[0m\u001b[0;34m:\u001b[0m\u001b[0;34m\u001b[0m\u001b[0;34m\u001b[0m\u001b[0m\n",
      "\u001b[0;31mValueError\u001b[0m: x and y must have same first dimension, but have shapes (50,) and (0,)"
     ]
    },
    {
     "data": {
      "image/png": "[encoded data removed]",
      "text/plain": [
       "<Figure size 432x288 with 1 Axes>"
      ]
     },
     "metadata": {
      "needs_background": "light"
     },
     "output_type": "display_data"
    }
   ],
   "source": [
    "plt.plot(range(num_steps-1), avg_mag)\n",
    "plt.show()"
   ]
  }
 ],
 "metadata": {
  "kernelspec": {
   "display_name": "Python 3",
   "language": "python",
   "name": "python3"
  },
  "language_info": {
   "codemirror_mode": {
    "name": "ipython",
    "version": 3
   },
   "file_extension": ".py",
   "mimetype": "text/x-python",
   "name": "python",
   "nbconvert_exporter": "python",
   "pygments_lexer": "ipython3",
   "version": "3.8.6"
  }
 },
 "nbformat": 4,
 "nbformat_minor": 4
}
