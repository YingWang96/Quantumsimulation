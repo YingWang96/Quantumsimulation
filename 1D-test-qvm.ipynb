This file contains the simulation code of 1D periodically driven spin systems on Rigetti's quantum virtural machine (qvm)
